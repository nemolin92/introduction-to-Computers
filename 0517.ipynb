{
  "nbformat": 4,
  "nbformat_minor": 0,
  "metadata": {
    "colab": {
      "provenance": [],
      "include_colab_link": true
    },
    "kernelspec": {
      "name": "python3",
      "display_name": "Python 3"
    },
    "language_info": {
      "name": "python"
    }
  },
  "cells": [
    {
      "cell_type": "markdown",
      "metadata": {
        "id": "view-in-github",
        "colab_type": "text"
      },
      "source": [
        "<a href=\"https://colab.research.google.com/github/nemolin92/introduction-to-Computers/blob/main/0517.ipynb\" target=\"_parent\"><img src=\"https://colab.research.google.com/assets/colab-badge.svg\" alt=\"Open In Colab\"/></a>"
      ]
    },
    {
      "cell_type": "code",
      "execution_count": 1,
      "metadata": {
        "colab": {
          "base_uri": "https://localhost:8080/"
        },
        "id": "qpxhXAjlzd7U",
        "outputId": "7daf1c11-145d-44f1-be2c-ffee9b7b2847"
      },
      "outputs": [
        {
          "output_type": "stream",
          "name": "stdout",
          "text": [
            "score:50\n",
            "Grade is: F\n"
          ]
        }
      ],
      "source": [
        "score=int(input(\"score:\"))\n",
        "if score >=90:\n",
        "  print('Grade is: A')\n",
        "elif score >= 80:\n",
        "  print('Grade is: B')\n",
        "\n",
        "elif score >= 70:\n",
        "  print('Grade is: C')\n",
        "\n",
        "elif score >= 60:\n",
        "  print('Grade is: D')\n",
        "else:\n",
        "  print(\"Grade is: F\")\n"
      ]
    },
    {
      "cell_type": "code",
      "source": [
        "成績=int(input(\"成績:\"))\n",
        "if 成績 >=90:\n",
        "  print('A')\n",
        "elif 89>= 成績 >=80:\n",
        "  print('B')\n",
        "elif 79>= 成績 >=70:\n",
        "  print('C')\n",
        "elif 69>= 成績 >=60:\n",
        "  print('D')\n",
        "else:\n",
        "  print(\"E\")"
      ],
      "metadata": {
        "colab": {
          "base_uri": "https://localhost:8080/"
        },
        "id": "n2z8BEhcDmkX",
        "outputId": "adfc4237-e991-4310-fe81-8912f86c2e44"
      },
      "execution_count": 2,
      "outputs": [
        {
          "output_type": "stream",
          "name": "stdout",
          "text": [
            "成績:50\n",
            "E\n"
          ]
        }
      ]
    },
    {
      "cell_type": "code",
      "source": [
        "體溫=int(input(\"體溫:\"))\n",
        "if 體溫 >=37.5:\n",
        "  print('體溫 is too high')\n",
        "elif 37.4>= 體溫 >=37:\n",
        "  print('體溫略高')\n",
        "elif 36.9>= 體溫 >=34:\n",
        "  print('體溫正常')\n",
        "else:\n",
        "  print(\"體溫異常，請重新測量\")"
      ],
      "metadata": {
        "colab": {
          "base_uri": "https://localhost:8080/"
        },
        "id": "6HRjmbD_1L_q",
        "outputId": "be27093c-ef21-41ca-8727-528bcb345b31"
      },
      "execution_count": 3,
      "outputs": [
        {
          "output_type": "stream",
          "name": "stdout",
          "text": [
            "體溫:37\n",
            "體溫略高\n"
          ]
        }
      ]
    },
    {
      "cell_type": "code",
      "source": [
        "month = int(input(\"請輸入月份：\"))\n",
        "\n",
        "if month in [3, 4, 5]:\n",
        "    print(month, \"月是春天！\")\n",
        "elif month in [6, 7, 8]:\n",
        "    print(month, \"月是夏天！\")\n",
        "elif month in [9, 10, 11]:\n",
        "    print(month, \"月是秋天！\")\n",
        "elif month in [12, 1, 2]:\n",
        "    print(month, \"月是冬天！\")\n",
        "else:\n",
        "    print(\"月份不在範圍內！\")\n",
        "\n"
      ],
      "metadata": {
        "colab": {
          "base_uri": "https://localhost:8080/"
        },
        "id": "NFaC15HU7Uc6",
        "outputId": "4cca0d00-67a2-4ffe-d719-ebe05b27a4a4"
      },
      "execution_count": 4,
      "outputs": [
        {
          "output_type": "stream",
          "name": "stdout",
          "text": [
            "請輸入月份：12\n",
            "12 月是冬天！\n"
          ]
        }
      ]
    },
    {
      "cell_type": "code",
      "source": [
        "收入=int(input(\"收入:\"))\n",
        "if 收入 >=2000000:\n",
        "  print(\"付稅金額:\",收入*0.3,\"元\")\n",
        "elif 1999999>= 收入 >=1000000:\n",
        "  print(\"付稅金額:\",收入*0.21,\"元\")\n",
        "elif 999999>= 收入 >=600000:\n",
        "  print(\"付稅金額:\",收入*0.13,\"元\")\n",
        "elif 599999>= 收入 >=300000:\n",
        "  print(\"付稅金額:\",收入*0.06,\"元\")\n",
        "else:\n",
        "  print(\"付稅金額:0元\")"
      ],
      "metadata": {
        "colab": {
          "base_uri": "https://localhost:8080/"
        },
        "id": "T5dw5fsy-ief",
        "outputId": "e1bde1b1-a4c8-4b08-f3c1-041dba0f49dc"
      },
      "execution_count": 5,
      "outputs": [
        {
          "output_type": "stream",
          "name": "stdout",
          "text": [
            "收入:400000\n",
            "付稅金額: 24000.0 元\n"
          ]
        }
      ]
    },
    {
      "cell_type": "code",
      "source": [
        "rain = input(\"是否有下雨: \")\n",
        "\n",
        "if rain == \"Y\" or rain == \"y\":\n",
        "    print(\"出門記得帶傘\")\n",
        "elif rain == \"N\" or rain == \"n\":\n",
        "    print(\"不用帶傘\")\n",
        "else:\n",
        "    print(\"請重新輸入\")"
      ],
      "metadata": {
        "colab": {
          "base_uri": "https://localhost:8080/"
        },
        "id": "ydUYDMAdBRqQ",
        "outputId": "7680c72d-d94d-4cb7-f9fd-57fbe47acf66"
      },
      "execution_count": 6,
      "outputs": [
        {
          "output_type": "stream",
          "name": "stdout",
          "text": [
            "是否有下雨: k\n",
            "請重新輸入\n"
          ]
        }
      ]
    }
  ]
}